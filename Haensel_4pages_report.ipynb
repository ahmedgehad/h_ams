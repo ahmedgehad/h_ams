{
 "cells": [
  {
   "cell_type": "markdown",
   "metadata": {},
   "source": [
    "# Haensel 4 Pages report\n",
    "## By Ahmed Ghandour\n",
    "\n",
    "This report contains steps done towards solving the Data scientist task"
   ]
  },
  {
   "cell_type": "markdown",
   "metadata": {},
   "source": [
    "### Folder content\n",
    "* This folder contains a solution for task using python build using conda environment called h_ams. One you install the environment file it will include all packages required to run this solution.\n",
    "* You can also run the full solution from the **\"main.py\"** file.\n",
    "* This Solution folder contains a subfolder contains all functions which I've also created to help me  "
   ]
  }
 ],
 "metadata": {
  "kernelspec": {
   "display_name": "Python 3",
   "language": "python",
   "name": "python3"
  },
  "language_info": {
   "codemirror_mode": {
    "name": "ipython",
    "version": 3
   },
   "file_extension": ".py",
   "mimetype": "text/x-python",
   "name": "python",
   "nbconvert_exporter": "python",
   "pygments_lexer": "ipython3",
   "version": "3.7.7"
  }
 },
 "nbformat": 4,
 "nbformat_minor": 4
}
